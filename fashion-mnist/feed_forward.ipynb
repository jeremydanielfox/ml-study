{
 "cells": [
  {
   "cell_type": "markdown",
   "metadata": {},
   "source": [
    "# Feed Forward networks\n",
    "Let's build  a simple feed forward network to classify the Fashion MNIST dataset, which relying on keras to set up the network for us. Along the way, we'll explore how to visualize the data and the network."
   ]
  },
  {
   "cell_type": "code",
   "execution_count": 25,
   "metadata": {},
   "outputs": [],
   "source": [
    "import numpy as np\n",
    "import matplotlib.pyplot as plt\n",
    "import seaborn as sns\n",
    "import tensorflow as tf\n",
    "from tensorflow.python.framework import ops\n",
    "from tensorflow.examples.tutorials.mnist import input_data"
   ]
  },
  {
   "cell_type": "markdown",
   "metadata": {},
   "source": [
    "Let's explore the shape of the data. We need to get the dimension correct to know how to build the network."
   ]
  },
  {
   "cell_type": "code",
   "execution_count": 32,
   "metadata": {},
   "outputs": [
    {
     "name": "stdout",
     "output_type": "stream",
     "text": [
      "Training set (images) shape: (60000, 28, 28)\n",
      "Training set (labels) shape: (60000,)\n",
      "Test set (images) shape: (10000, 28, 28)\n",
      "Test set (labels) shape: (10000,)\n",
      "[9 0 0 ... 3 0 5]\n"
     ]
    }
   ],
   "source": [
    "# Import fashion mnist\n",
    "(train_images, train_labels), (test_images,\n",
    "                               test_labels) = tf.keras.datasets.fashion_mnist.load_data()\n",
    "# Shapes of training set\n",
    "print(\"Training set (images) shape: {shape}\".format(shape=train_images.shape))\n",
    "print(\"Training set (labels) shape: {shape}\".format(shape=train_labels.shape))\n",
    "\n",
    "# Shapes of test set\n",
    "print(\"Test set (images) shape: {shape}\".format(shape=test_images.shape))\n",
    "print(\"Test set (labels) shape: {shape}\".format(shape=test_labels.shape))\n",
    "\n",
    "# Create dictionary of target classes\n",
    "label_dict = {\n",
    "    0: 'T-shirt/top',\n",
    "    1: 'Trouser',\n",
    "    2: 'Pullover',\n",
    "    3: 'Dress',\n",
    "    4: 'Coat',\n",
    "    5: 'Sandal',\n",
    "    6: 'Shirt',\n",
    "    7: 'Sneaker',\n",
    "    8: 'Bag',\n",
    "    9: 'Ankle boot'\n",
    "}"
   ]
  },
  {
   "cell_type": "markdown",
   "metadata": {},
   "source": [
    "We can go ahead and visualize some examples from the dataset, so that we know what we're working with."
   ]
  },
  {
   "cell_type": "code",
   "execution_count": 45,
   "metadata": {},
   "outputs": [
    {
     "data": {
      "image/png": "[encoded data removed]",
      "text/plain": [
       "<Figure size 432x288 with 2 Axes>"
      ]
     },
     "metadata": {
      "needs_background": "light"
     },
     "output_type": "display_data"
    }
   ],
   "source": [
    "# Sample 1\n",
    "# Get vector into 28 x 28 image format.\n",
    "SAMPLE_1_INDEX = 47\n",
    "sample_1 = train_images[SAMPLE_1_INDEX]\n",
    "# Get corresponding integer label from one-hot encoded data\n",
    "sample_label_1 = train_labels[SAMPLE_1_INDEX]\n",
    "# Plot the sample\n",
    "label = label_dict[sample_label_1]\n",
    "plt.subplot(1, 2, 1)\n",
    "plt.imshow(sample_1, cmap='Greys')\n",
    "plt.xlabel(f\"{sample_label_1} ({label})\")\n",
    "\n",
    "# Sample 2\n",
    "# Get vector into 28 x 28 image format.\n",
    "SAMPLE_2_INDEX = 24\n",
    "sample_2 = train_images[SAMPLE_2_INDEX]\n",
    "# Get corresponding integer label from one-hot encoded data\n",
    "sample_label_2 = train_labels[SAMPLE_2_INDEX]\n",
    "# Plot the sample\n",
    "label = label_dict[sample_label_2]\n",
    "plt.subplot(1, 2, 2)\n",
    "plt.imshow(sample_2, cmap='Greys')\n",
    "plt.xlabel(f\"{sample_label_2} ({label})\")\n",
    "plt.show()"
   ]
  },
  {
   "cell_type": "markdown",
   "metadata": {},
   "source": [
    "Now we can start building the network!\n",
    "\n",
    "We will build a 3 layer feedforward network with 128 units in each hidden layer. We can use ReLU activation function for the hidden layers, and then we'll pass to a softmax function of 10 units, one for each output class."
   ]
  },
  {
   "cell_type": "code",
   "execution_count": 51,
   "metadata": {},
   "outputs": [],
   "source": [
    "# First let's set up the parameters\n",
    "n_hidden_1 = 128  # Units in first hidden layer\n",
    "n_hidden_2 = 128  # Units in second hidden layer\n",
    "n_input = 784  # Fashion MNIST data input (img shape: 28*28)\n",
    "n_classes = 10  # Fashion MNIST total classes (0–9 digits)\n",
    "n_samples = train_images.shape[0]  # Number of examples in training set\n",
    "\n",
    "# Create placeholders\n",
    "\n",
    "\n",
    "def create_placeholders(n_x, n_y):\n",
    "    \"\"\"\n",
    "    Creates the placeholders for the tensorflow session.\n",
    "\n",
    "    Args:\n",
    "    n_x -- scalar, size of an image vector\n",
    "    n_y -- scalar, number of classes\n",
    "\n",
    "    Returns:\n",
    "    X -- placeholder for the data input, of shape [x_n, None] and dtype float\n",
    "    Y -- placeholder for the input labels, of shape [n_y, None] and dtype float\n",
    "    \"\"\"\n",
    "\n",
    "    X = tf.placeholder(tf.float32, [n_x, None], name=\"X\")\n",
    "    Y = tf.placeholder(tf.float32, [n_y, None], name=\"Y\")\n",
    "    return X, Y\n",
    "\n",
    "# Initialize weights and biases for each layer. These will be\n",
    "# updated during training.\n",
    "\n",
    "\n",
    "def initialize_parameters():\n",
    "    \"\"\"\n",
    "    Initializes parameters to build a neural network with tensorflow.\n",
    "\n",
    "    Returns:\n",
    "    parameters -- a dictionary of tensors containing W1, b1, W2, b2, W3, b3\n",
    "    \"\"\"\n",
    "\n",
    "    # Set random seed for reproducibility\n",
    "    tf.set_random_seed(42)  # Answer to life, the universe, and everything\n",
    "\n",
    "    # Initialize weights and biases for each layer\n",
    "    # First hidden layer\n",
    "    W1 = tf.get_variable(\"W1\", [n_hidden_1, n_input],\n",
    "                         initializer=tf.contrib.layers.xavier_initializer(seed=42))\n",
    "    b1 = tf.get_variable(\"b1\", [n_hidden_1, 1],\n",
    "                         initializer=tf.zeros_initializer())"
   ]
  }
 ],
 "metadata": {
  "kernelspec": {
   "display_name": "Python 3",
   "language": "python",
   "name": "python3"
  },
  "language_info": {
   "codemirror_mode": {
    "name": "ipython",
    "version": 3
   },
   "file_extension": ".py",
   "mimetype": "text/x-python",
   "name": "python",
   "nbconvert_exporter": "python",
   "pygments_lexer": "ipython3",
   "version": "3.7.4"
  },
  "toc": {
   "base_numbering": 1,
   "nav_menu": {},
   "number_sections": true,
   "sideBar": true,
   "skip_h1_title": false,
   "title_cell": "Table of Contents",
   "title_sidebar": "Contents",
   "toc_cell": false,
   "toc_position": {},
   "toc_section_display": true,
   "toc_window_display": false
  },
  "varInspector": {
   "cols": {
    "lenName": 16,
    "lenType": 16,
    "lenVar": 40
   },
   "kernels_config": {
    "python": {
     "delete_cmd_postfix": "",
     "delete_cmd_prefix": "del ",
     "library": "var_list.py",
     "varRefreshCmd": "print(var_dic_list())"
    },
    "r": {
     "delete_cmd_postfix": ") ",
     "delete_cmd_prefix": "rm(",
     "library": "var_list.r",
     "varRefreshCmd": "cat(var_dic_list()) "
    }
   },
   "types_to_exclude": [
    "module",
    "function",
    "builtin_function_or_method",
    "instance",
    "_Feature"
   ],
   "window_display": false
  }
 },
 "nbformat": 4,
 "nbformat_minor": 2
}
